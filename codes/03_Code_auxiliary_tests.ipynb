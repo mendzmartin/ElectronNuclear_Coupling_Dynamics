{
 "cells": [
  {
   "attachments": {},
   "cell_type": "markdown",
   "metadata": {},
   "source": [
    "#### I. Referencias consultadas"
   ]
  },
  {
   "attachments": {},
   "cell_type": "markdown",
   "metadata": {},
   "source": [
    "# Numerical development to resolve Time-Dependent Schrödinger equation through eigenvalue problem"
   ]
  },
  {
   "attachments": {},
   "cell_type": "markdown",
   "metadata": {},
   "source": [
    "## 1. Import modules with useful functions, parameters, and algorithms."
   ]
  },
  {
   "cell_type": "code",
   "execution_count": 428,
   "metadata": {},
   "outputs": [],
   "source": [
    "name_code = \"03_Code_auxiliary_tests\";"
   ]
  },
  {
   "cell_type": "code",
   "execution_count": 429,
   "metadata": {},
   "outputs": [
    {
     "name": "stderr",
     "output_type": "stream",
     "text": [
      "\u001b[32m\u001b[1m  Activating\u001b[22m\u001b[39m project at `~/github_repositories/my_repositories/ElectronNuclear_Coupling_Dynamics/gridap_makie`\n"
     ]
    }
   ],
   "source": [
    "include(\"../modules/module_schrodinger_equation_eigenproblem.jl\"); # módulo para construir grilla (1D)"
   ]
  },
  {
   "attachments": {},
   "cell_type": "markdown",
   "metadata": {},
   "source": [
    "## 2. Setting grid properties\n",
    "\n",
    "* Tipo de grilla\n",
    "* Discretización espacial\n",
    "* Dominio\n",
    "* Condiciones de contorno"
   ]
  },
  {
   "cell_type": "code",
   "execution_count": 430,
   "metadata": {},
   "outputs": [],
   "source": [
    "Bohr_radius_meter=5.29177210903e−11;                        # [m]\n",
    "Angstrom_to_meter=1e−10;                                    # [m/Å]\n",
    "Angstrom_to_au=Angstrom_to_meter*(1.0/Bohr_radius_meter);   # [au/Å]"
   ]
  },
  {
   "attachments": {},
   "cell_type": "markdown",
   "metadata": {},
   "source": [
    "## 5. Resolve the 2D problem"
   ]
  },
  {
   "cell_type": "code",
   "execution_count": 431,
   "metadata": {},
   "outputs": [
    {
     "data": {
      "text/plain": [
       "space_coord_2D (generic function with 1 method)"
      ]
     },
     "execution_count": 431,
     "metadata": {},
     "output_type": "execute_result"
    }
   ],
   "source": [
    "function space_coord_2D(dom,Δx,Δy)\n",
    "    nx=round(Int,1.0/Δx)+1; # cantidad de puntos en dirección x\n",
    "    ny=round(Int,1.0/Δy)+1; # cantidad de puntos en dirección y\n",
    "    x=[dom[1]+abs(dom[2]-dom[1])*Δx*(i-1) for i in 1:nx];\n",
    "    y=[dom[3]+abs(dom[4]-dom[3])*Δy*(i-1) for i in 1:ny];\n",
    "    pts=[Point(x[i],y[j]) for i in 1:nx for j in 1:ny];\n",
    "    return x,y,pts;\n",
    "end"
   ]
  },
  {
   "cell_type": "code",
   "execution_count": 432,
   "metadata": {},
   "outputs": [],
   "source": [
    "dom_2D=(-12.0*Angstrom_to_au,12.0*Angstrom_to_au,-4.9*Angstrom_to_au,4.9*Angstrom_to_au);   # cantidad de FE y dominio espacial\n",
    "n_1D_r=49;n_1D_R=49;    # cantidad de FE por dimension (cantidad de intervalos)\n",
    "ΔrH=1.0/n_1D_r; ΔRH=1.0/n_1D_R                        # tamaño del elemento 2D\n",
    "partition_2D=(n_1D_r,n_1D_R);                               # grilla de tamaño n²\n",
    "model_2D=CartesianDiscreteModel(dom_2D,partition_2D);   # creamos modelo con elementos cartesianos"
   ]
  },
  {
   "cell_type": "code",
   "execution_count": 433,
   "metadata": {},
   "outputs": [],
   "source": [
    "writevtk(model_2D,path_models*\"CartesianDiscreteModel\");"
   ]
  },
  {
   "cell_type": "code",
   "execution_count": 434,
   "metadata": {},
   "outputs": [],
   "source": [
    "dirichlet_values_2D=(0.0+im*0.0);        # condiciones de contorno de tipo fulldirichlet\n",
    "dirichlet_tags_2D=\"boundary\";"
   ]
  },
  {
   "cell_type": "code",
   "execution_count": 435,
   "metadata": {},
   "outputs": [],
   "source": [
    "Ω_2D,dΩ_2D,Γ_2D,dΓ_2D=measures(model_2D,3,dirichlet_tags_2D);\n",
    "reffe_2D=ReferenceFE(lagrangian,Float64,2);\n",
    "DOF_r,DOF_R,pts=space_coord_2D(dom_2D,ΔrH,ΔRH);"
   ]
  },
  {
   "cell_type": "code",
   "execution_count": 436,
   "metadata": {},
   "outputs": [
    {
     "name": "stdout",
     "output_type": "stream",
     "text": [
      "Set Electron-Nuclear potential\n"
     ]
    }
   ],
   "source": [
    "VHre_2D=TestFESpace(model_2D,reffe_2D;vector_type=Vector{ComplexF64},conformity=:H1,dirichlet_tags=dirichlet_tags_2D);\n",
    "UHre_2D=TrialFESpace(VHre_2D,dirichlet_values_2D);\n",
    "\n",
    "R₁=-5.0*Angstrom_to_au;R₂=5.0*Angstrom_to_au;Rc=1.5*Angstrom_to_au;Rf=1.5*Angstrom_to_au; # parameters\n",
    "\n",
    "pH_2D,qH_2D,rH_2D=eigenvalue_problem_functions((R₁,R₂,Rc,Rf);switch_potential = \"Electron_Nuclear_Potential_2D\")\n",
    "aH_2D,bH_2D=bilineal_forms(pH_2D,qH_2D,rH_2D,dΩ_2D);"
   ]
  },
  {
   "cell_type": "code",
   "execution_count": 437,
   "metadata": {},
   "outputs": [],
   "source": [
    "nevH=4;\n",
    "probH_2D=EigenProblem(aH_2D,bH_2D,UHre_2D,VHre_2D;nev=nevH,tol=10^(-9),maxiter=300,explicittransform=:none,sigma=-1.0);"
   ]
  },
  {
   "cell_type": "code",
   "execution_count": 438,
   "metadata": {},
   "outputs": [],
   "source": [
    "ϵH_2D,ϕH_2D=solve(probH_2D);"
   ]
  },
  {
   "cell_type": "code",
   "execution_count": 439,
   "metadata": {},
   "outputs": [],
   "source": [
    "# Escribimos autovectores para visualizar externamente\n",
    "write_data=true;\n",
    "if write_data\n",
    "    for i in 1:nevH\n",
    "        writevtk(Ω_2D,path_images*\"eigenprob_2D_01_num$(i)\",cellfields=[\"phi_real\" => real(ϕH_2D[i]), \"phi_imag\" => imag(ϕH_2D[i])]);\n",
    "    end\n",
    "end"
   ]
  },
  {
   "cell_type": "code",
   "execution_count": 440,
   "metadata": {},
   "outputs": [
    {
     "data": {
      "text/plain": [
       "4-element Vector{Float64}:\n",
       " 5.229508859534801\n",
       " 5.071587361002997\n",
       " 5.033956654014375\n",
       " 5.277484096650664"
      ]
     },
     "execution_count": 440,
     "metadata": {},
     "output_type": "execute_result"
    }
   ],
   "source": [
    "S_2D=TimeIndependet_Diff_Shannon_Entropy_1D(ϕH_2D,UHre_2D,dΩ_2D)"
   ]
  },
  {
   "cell_type": "code",
   "execution_count": 441,
   "metadata": {},
   "outputs": [],
   "source": [
    "𝛹ₓᵢ=interpolate_everywhere(ϕH_2D[1],UHre_2D);\n",
    "𝛹ₓᵢ=𝛹ₓᵢ/norm_L2(𝛹ₓᵢ,dΩ_2D);\n",
    "ρₓᵢ=real(𝛹ₓᵢ'*𝛹ₓᵢ);"
   ]
  },
  {
   "cell_type": "code",
   "execution_count": 547,
   "metadata": {},
   "outputs": [
    {
     "name": "stderr",
     "output_type": "stream",
     "text": [
      "\u001b[32m\u001b[1m  Activating\u001b[22m\u001b[39m project at `~/github_repositories/my_repositories/ElectronNuclear_Coupling_Dynamics/gridap_makie`\n"
     ]
    }
   ],
   "source": [
    "include(\"../modules/module_schrodinger_equation_eigenproblem.jl\"); # módulo para construir grilla (1D)"
   ]
  },
  {
   "cell_type": "code",
   "execution_count": 548,
   "metadata": {},
   "outputs": [],
   "source": [
    "δKroneckerGridap = CellField(x->kronecker_deltax_Gridap_v2(x,DOF_r[1],1.0),Ω_2D);\n",
    "δnorm=sum(integrate(δKroneckerGridap,dΩ_2D));\n",
    "δKroneckerGridap = CellField(x->kronecker_deltax_Gridap_v2(x,DOF_r[1],δnorm),Ω_2D);"
   ]
  },
  {
   "cell_type": "code",
   "execution_count": 549,
   "metadata": {},
   "outputs": [],
   "source": [
    "writevtk(Ω_2D,path_images*\"aux_function\",cellfields=[\"δKroneckerGridap\" =>δKroneckerGridap]);"
   ]
  },
  {
   "cell_type": "code",
   "execution_count": 550,
   "metadata": {},
   "outputs": [
    {
     "data": {
      "text/plain": [
       "1.0"
      ]
     },
     "execution_count": 550,
     "metadata": {},
     "output_type": "execute_result"
    }
   ],
   "source": [
    "sum(integrate(δKroneckerGridap,dΩ_2D))"
   ]
  },
  {
   "cell_type": "code",
   "execution_count": 551,
   "metadata": {},
   "outputs": [
    {
     "data": {
      "text/plain": [
       "2.0739996029051654e-11"
      ]
     },
     "execution_count": 551,
     "metadata": {},
     "output_type": "execute_result"
    }
   ],
   "source": [
    "-sum(integrate(ρₓᵢ*(log∘ρₓᵢ)*δKroneckerGridap,dΩ_2D))"
   ]
  },
  {
   "cell_type": "code",
   "execution_count": null,
   "metadata": {},
   "outputs": [
    {
     "data": {
      "text/plain": [
       "trapez1D_partial_integ_function2D (generic function with 2 methods)"
      ]
     },
     "execution_count": 423,
     "metadata": {},
     "output_type": "execute_result"
    }
   ],
   "source": [
    "function trapez1D_partial_integ_function2D(x_vec,y_value,function2D)\n",
    "    coef_vec=copy(x_vec);\n",
    "    function_vec=copy(x_vec);\n",
    "    dim_x=length(x_vec);\n",
    "\n",
    "    coef_vec[1]=1.0;\n",
    "    coef_vec[2:(dim_x-1)].=2.0;\n",
    "    coef_vec[end]=1.0;\n",
    "\n",
    "    function_vec[1]=function2D(x_vec[1],y_value);\n",
    "    function_vec[end]=function2D(x_vec[end],y_value);\n",
    "\n",
    "    for i in 2:(length(x_vec)-1);\n",
    "        function_vec[i]=function2D(x_vec[i-1],y_value);\n",
    "    end\n",
    "\n",
    "    return 0.5*Δx*(transpose(function_vec)*coef_vec);\n",
    "end"
   ]
  },
  {
   "cell_type": "code",
   "execution_count": null,
   "metadata": {},
   "outputs": [
    {
     "data": {
      "text/plain": [
       "function2D (generic function with 1 method)"
      ]
     },
     "execution_count": 424,
     "metadata": {},
     "output_type": "execute_result"
    }
   ],
   "source": [
    "function function2D(x_value,y_value)\n",
    "    return cos(x_value*y_value);\n",
    "end"
   ]
  },
  {
   "cell_type": "code",
   "execution_count": null,
   "metadata": {},
   "outputs": [
    {
     "data": {
      "text/plain": [
       "-0.032508965091200936"
      ]
     },
     "execution_count": 425,
     "metadata": {},
     "output_type": "execute_result"
    }
   ],
   "source": [
    "trapez1D_partial_integ_function2D(DOF_r,ΔrH,DOF_R[1],function2D)"
   ]
  },
  {
   "cell_type": "code",
   "execution_count": null,
   "metadata": {},
   "outputs": [
    {
     "data": {
      "text/plain": [
       "0.10508264367833813"
      ]
     },
     "execution_count": 426,
     "metadata": {},
     "output_type": "execute_result"
    }
   ],
   "source": [
    "(sin(-DOF_r[1]*DOF_R[1])+sin(DOF_r[end]*DOF_R[1]))/DOF_R[1]"
   ]
  },
  {
   "cell_type": "code",
   "execution_count": null,
   "metadata": {},
   "outputs": [
    {
     "data": {
      "text/plain": [
       "trapez2D_integ (generic function with 1 method)"
      ]
     },
     "execution_count": 427,
     "metadata": {},
     "output_type": "execute_result"
    }
   ],
   "source": [
    "function trapez2D_integ(x_vec,y_vec,Δx,Δy,function2D)\n",
    "\n",
    "    coef_vec=copy(y_vec);\n",
    "    function_vec=copy(y_vec);\n",
    "    dim_y=length(y_vec);\n",
    "\n",
    "    coef_vec[1]=y_vec[1];\n",
    "    coef_vec[2:(dim_y-1)].=2.0;\n",
    "    coef_vec[end]=y_vec[end];\n",
    "\n",
    "    function_vec[1]=function2D(coef_vec[1],y_value);\n",
    "    function_vec[1]=trapez1D_partial_integ_function2D(x_vec,Δx,y_value,function2D)\n",
    "\n",
    "\n",
    "    function_vec[end]=function2D(coef_vec[end],y_value);\n",
    "\n",
    "    for i in 2:(length(x_vec)-1);\n",
    "        function_vec[i]=function2D(x_vec[i-1],y_value);\n",
    "    end\n",
    "\n",
    "    return 0.5*Δx*(transpose(function_vec)*coef_vec);\n",
    "end"
   ]
  }
 ],
 "metadata": {
  "kernelspec": {
   "display_name": "Julia 1.8.5",
   "language": "julia",
   "name": "julia-1.8"
  },
  "language_info": {
   "file_extension": ".jl",
   "mimetype": "application/julia",
   "name": "julia",
   "version": "1.8.5"
  },
  "orig_nbformat": 4,
  "vscode": {
   "interpreter": {
    "hash": "916dbcbb3f70747c44a77c7bcd40155683ae19c65e1c03b4aa3499c5328201f1"
   }
  }
 },
 "nbformat": 4,
 "nbformat_minor": 2
}
